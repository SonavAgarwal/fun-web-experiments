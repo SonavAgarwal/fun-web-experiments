{
 "cells": [
  {
   "cell_type": "code",
   "execution_count": 8,
   "metadata": {},
   "outputs": [
    {
     "name": "stdout",
     "output_type": "stream",
     "text": [
      "survive: 0.33462\n",
      "one wrong: 0.33272\n",
      "both wrong: 0.33266\n"
     ]
    }
   ],
   "source": [
    "import random\n",
    "\n",
    "def hats():\n",
    "    hs = [random.random() > 0.5 for i in range(1000)]\n",
    "    first_black = -1\n",
    "    for i, hat in enumerate(hs):\n",
    "        if hat:\n",
    "            first_black = i\n",
    "            break\n",
    "    return hs, first_black\n",
    "\n",
    "survive, one_wrong, both_wrong = 0, 0, 0\n",
    "\n",
    "N = 100000\n",
    "\n",
    "for i in range(N):\n",
    "    p1, p1i = hats()\n",
    "    p2, p2i = hats()\n",
    "\n",
    "    h1 = p1[p2i]\n",
    "    h2 = p2[p1i]\n",
    "\n",
    "    if (h1 and h2):\n",
    "        survive += 1\n",
    "    elif (not h1) and (not h2):\n",
    "        both_wrong += 1\n",
    "    else:\n",
    "        one_wrong += 1\n",
    "\n",
    "print(\"survive:\", survive / N)\n",
    "print(\"one wrong:\", one_wrong / N)\n",
    "print(\"both wrong:\", both_wrong / N)\n",
    "    \n",
    "\n"
   ]
  }
 ],
 "metadata": {
  "kernelspec": {
   "display_name": "random",
   "language": "python",
   "name": "python3"
  },
  "language_info": {
   "codemirror_mode": {
    "name": "ipython",
    "version": 3
   },
   "file_extension": ".py",
   "mimetype": "text/x-python",
   "name": "python",
   "nbconvert_exporter": "python",
   "pygments_lexer": "ipython3",
   "version": "3.12.3"
  }
 },
 "nbformat": 4,
 "nbformat_minor": 2
}
